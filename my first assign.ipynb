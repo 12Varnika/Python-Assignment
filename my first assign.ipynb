{
 "cells": [
  {
   "cell_type": "code",
   "execution_count": null,
   "id": "07b37565-3de6-4dae-9c98-db7be61d5cdd",
   "metadata": {},
   "outputs": [],
   "source": [
    "#QUES. 1Explain the key features of Python that  make it a popular choice of programming?\n",
    "#Ams.   Features are-\n",
    "       # Free and Open Source\n",
    "        #Easy to code\n",
    "        #Easy to Read\n",
    "        #Object-Oriented Language\n",
    "        #GUI Programming Support\n",
    "        #High-Level Language"
   ]
  },
  {
   "cell_type": "code",
   "execution_count": null,
   "id": "2e467f89-5900-46fc-8da7-4f197ab2e712",
   "metadata": {},
   "outputs": [],
   "source": [
    "#QUES. 2 Describe the role of predefined keywords in Python and provide examples of how they are used in a\n",
    "      #program.\n",
    "\n",
    "#ANS.Python Keywords are some predefined and reserved words in Python that have special meanings.\n",
    "    #Keywords are used to define the syntax of the coding. The keyword cannot be used as an identifier,\n",
    "    #function, or variable name.\n",
    "    #There are 33 keywords"
   ]
  },
  {
   "cell_type": "code",
   "execution_count": 2,
   "id": "1048f11c-ba8f-4dfa-a671-7593501debda",
   "metadata": {},
   "outputs": [
    {
     "name": "stdout",
     "output_type": "stream",
     "text": [
      "7\n",
      "6\n",
      "5\n",
      "4\n",
      "3\n",
      "2\n",
      "1\n"
     ]
    }
   ],
   "source": [
    "#here while is a keyword in python which is being used in a program\n",
    "num=7\n",
    "while num>0:\n",
    "    print(num)\n",
    "    num=num-1"
   ]
  },
  {
   "cell_type": "code",
   "execution_count": null,
   "id": "83b39914-8ba2-4b86-8326-f40e7c48613e",
   "metadata": {},
   "outputs": [],
   "source": [
    "#QUES.3 Mutuable and immutable .\n",
    "#ANS. Mutuable objects are those objects which can change or update after creation, but in immutuable objects are\n",
    "    #those objects which cannot change after its creation.\n",
    "    #Example of mutuable lists, dictionary.\n",
    "    #Example of immutable tuple, string.\n",
    "    #In mutuable objects we can perform functions like append, pop, remove etc."
   ]
  },
  {
   "cell_type": "code",
   "execution_count": 6,
   "id": "56005263-e051-4be4-ada7-f9d3df8c22e2",
   "metadata": {},
   "outputs": [
    {
     "name": "stdout",
     "output_type": "stream",
     "text": [
      "[2, 3, 6, 8]\n"
     ]
    }
   ],
   "source": [
    "# example of mutuable\n",
    "a=[2,4,6,8]\n",
    "a[1]=3\n",
    "print(a)"
   ]
  },
  {
   "cell_type": "code",
   "execution_count": 7,
   "id": "41b5a7e5-2ad0-4386-99d5-5d4051b7f208",
   "metadata": {},
   "outputs": [
    {
     "ename": "TypeError",
     "evalue": "'str' object does not support item assignment",
     "output_type": "error",
     "traceback": [
      "\u001b[0;31m---------------------------------------------------------------------------\u001b[0m",
      "\u001b[0;31mTypeError\u001b[0m                                 Traceback (most recent call last)",
      "Cell \u001b[0;32mIn[7], line 3\u001b[0m\n\u001b[1;32m      1\u001b[0m \u001b[38;5;66;03m#example of immutable \u001b[39;00m\n\u001b[1;32m      2\u001b[0m a\u001b[38;5;241m=\u001b[39m\u001b[38;5;124m\"\u001b[39m\u001b[38;5;124mgirl\u001b[39m\u001b[38;5;124m\"\u001b[39m\n\u001b[0;32m----> 3\u001b[0m \u001b[43ma\u001b[49m\u001b[43m[\u001b[49m\u001b[38;5;241;43m0\u001b[39;49m\u001b[43m]\u001b[49m\u001b[38;5;241m=\u001b[39m\u001b[38;5;124m\"\u001b[39m\u001b[38;5;124mgood\u001b[39m\u001b[38;5;124m\"\u001b[39m\n\u001b[1;32m      4\u001b[0m \u001b[38;5;28mprint\u001b[39m(a)\n",
      "\u001b[0;31mTypeError\u001b[0m: 'str' object does not support item assignment"
     ]
    }
   ],
   "source": [
    "#example of immutable \n",
    "a=\"girl\"\n",
    "a[0]=\"good\"\n",
    "print(a)"
   ]
  },
  {
   "cell_type": "code",
   "execution_count": null,
   "id": "a87b6011-0ba4-4744-adb6-74eb61212ade",
   "metadata": {},
   "outputs": [],
   "source": [
    "#The above example shows immutable doesnot change after its creation."
   ]
  },
  {
   "cell_type": "code",
   "execution_count": null,
   "id": "2f0c5258-f7db-419c-92f7-838183bb21f8",
   "metadata": {},
   "outputs": [],
   "source": [
    "#QUES 4. Operators with example.\n",
    "#ANS.   Types of operators are:-\n",
    "       # Arithmetic (+,-,*,%,/)\n",
    "       #Comparison (==,!=,>,<,>=,<=)\n",
    "       # Logical (Logical AND, Logical OR, Logical NOT)\n",
    "       #Bitwise (&,/,^,~,>>,<<)\n",
    "       # Assignment (+=,-=,*=,/=,%=,//=)\n",
    "       # Membership (in, not in)\n",
    "       # Identity (is, is not)\n",
    "        "
   ]
  },
  {
   "cell_type": "code",
   "execution_count": 11,
   "id": "e8e626e4-6ad1-458c-be56-0f151015abb2",
   "metadata": {},
   "outputs": [
    {
     "name": "stdout",
     "output_type": "stream",
     "text": [
      "10\n"
     ]
    }
   ],
   "source": [
    "#example of arithmetic \n",
    "a=2\n",
    "b=8\n",
    "c=a+b\n",
    "print(c)"
   ]
  },
  {
   "cell_type": "code",
   "execution_count": 13,
   "id": "4ef11cdc-a4f2-4870-90de-67d3cc01752d",
   "metadata": {},
   "outputs": [
    {
     "name": "stdout",
     "output_type": "stream",
     "text": [
      "2\n"
     ]
    }
   ],
   "source": [
    "#example of airthmetic\n",
    "a=22\n",
    "b=4\n",
    "c=a%b\n",
    "print(c)"
   ]
  },
  {
   "cell_type": "code",
   "execution_count": 1,
   "id": "6f5e63c2-7ad5-46b8-ab66-8c82f2906552",
   "metadata": {},
   "outputs": [
    {
     "name": "stdout",
     "output_type": "stream",
     "text": [
      "True\n"
     ]
    }
   ],
   "source": [
    "#example of comparison operator\n",
    "a=9\n",
    "b=9\n",
    "print(a==b)"
   ]
  },
  {
   "cell_type": "code",
   "execution_count": 2,
   "id": "56baa000-34f8-4037-ad7f-1b0b7b42df3b",
   "metadata": {},
   "outputs": [
    {
     "name": "stdout",
     "output_type": "stream",
     "text": [
      "False\n"
     ]
    }
   ],
   "source": [
    "#example of comparison operator\n",
    "a=9\n",
    "b=2\n",
    "print(a<=b)"
   ]
  },
  {
   "cell_type": "code",
   "execution_count": 4,
   "id": "c776e038-012c-4236-84b9-1e85d7ddab49",
   "metadata": {},
   "outputs": [
    {
     "name": "stdout",
     "output_type": "stream",
     "text": [
      "True\n"
     ]
    }
   ],
   "source": [
    "#example of logical AND\n",
    "a=10\n",
    "print(a>8 and a>2)"
   ]
  },
  {
   "cell_type": "code",
   "execution_count": 5,
   "id": "bc2014e6-5f91-4777-9060-d658a0dbed2a",
   "metadata": {},
   "outputs": [
    {
     "name": "stdout",
     "output_type": "stream",
     "text": [
      "True\n"
     ]
    }
   ],
   "source": [
    "#example f logical OR\n",
    "a=50\n",
    "print(a>20 or a>100) "
   ]
  },
  {
   "cell_type": "code",
   "execution_count": 6,
   "id": "b49f8fbc-feeb-483b-b737-99ce9df83141",
   "metadata": {},
   "outputs": [
    {
     "name": "stdout",
     "output_type": "stream",
     "text": [
      "False\n"
     ]
    }
   ],
   "source": [
    "#example of logical NOT (it returns true when result is false)\n",
    "a=35\n",
    "print(not(a>30 and a<40))"
   ]
  },
  {
   "cell_type": "code",
   "execution_count": 8,
   "id": "8378d814-3c8d-4acf-8dc5-c2eeea1688bd",
   "metadata": {},
   "outputs": [
    {
     "name": "stdout",
     "output_type": "stream",
     "text": [
      "False\n"
     ]
    }
   ],
   "source": [
    "#example of membership in operator\n",
    "x=(\"girl\" \"boy\")\n",
    "print(\"god\" in x)"
   ]
  },
  {
   "cell_type": "code",
   "execution_count": 9,
   "id": "0593d684-e602-4f2a-a944-e9e9cc394cf1",
   "metadata": {},
   "outputs": [
    {
     "name": "stdout",
     "output_type": "stream",
     "text": [
      "True\n"
     ]
    }
   ],
   "source": [
    "#example of membership in operator\n",
    "x=(\"stack\" \"list\")\n",
    "print(\"list\" in x)\n"
   ]
  },
  {
   "cell_type": "code",
   "execution_count": 10,
   "id": "976d4313-d8a9-4e39-b6bf-1c24314ce304",
   "metadata": {},
   "outputs": [
    {
     "name": "stdout",
     "output_type": "stream",
     "text": [
      "True\n"
     ]
    }
   ],
   "source": [
    "#example of not in operator\n",
    "x=(\"girl\" \"boy\")\n",
    "print(\"god\" not in x)"
   ]
  },
  {
   "cell_type": "code",
   "execution_count": 11,
   "id": "762e8185-3464-4cae-8c74-cad85cf10e6d",
   "metadata": {},
   "outputs": [
    {
     "name": "stdout",
     "output_type": "stream",
     "text": [
      "False\n"
     ]
    }
   ],
   "source": [
    "#example of membership not in operator\n",
    "x=(\"stack\" \"list\")\n",
    "print(\"list\" not in x)\n"
   ]
  },
  {
   "cell_type": "code",
   "execution_count": 15,
   "id": "8f97ab0f-f024-4ff7-b50b-d698272ae385",
   "metadata": {},
   "outputs": [
    {
     "name": "stdout",
     "output_type": "stream",
     "text": [
      "True\n"
     ]
    }
   ],
   "source": [
    "#example of identity is operator\n",
    "x=(\"tree\", \"queue\")\n",
    "y=(\"tree\",\"queue\")\n",
    "z=x\n",
    "print (x is z)"
   ]
  },
  {
   "cell_type": "code",
   "execution_count": 16,
   "id": "377c6b34-9248-4e10-a970-3110e33923e3",
   "metadata": {},
   "outputs": [
    {
     "name": "stdout",
     "output_type": "stream",
     "text": [
      "False\n"
     ]
    }
   ],
   "source": [
    "#example of identity is not operator\n",
    "x=(\"tree\", \"queue\")\n",
    "y=(\"tree\",\"queue\")\n",
    "z=x\n",
    "print (x is not z)"
   ]
  },
  {
   "cell_type": "code",
   "execution_count": null,
   "id": "b1836e06-ae5c-4d8d-95f6-072c3de2ffe5",
   "metadata": {},
   "outputs": [],
   "source": [
    "#QUES.5 Typecasting with example.\n",
    "#ANS.    #Typecasting is a method of changing datatypes into anothere datatype to perform function.\n",
    "        \n",
    "        "
   ]
  },
  {
   "cell_type": "code",
   "execution_count": 18,
   "id": "9659ac64-85bc-4e27-bc9c-0968e58176ae",
   "metadata": {},
   "outputs": [
    {
     "name": "stdout",
     "output_type": "stream",
     "text": [
      "2\n",
      "4\n",
      "2\n"
     ]
    }
   ],
   "source": [
    "#example \n",
    "x=int(\"2\")\n",
    "y=int(4.8)\n",
    "z=int(2)\n",
    "print(x)\n",
    "print(y)\n",
    "print(z)"
   ]
  },
  {
   "cell_type": "code",
   "execution_count": null,
   "id": "e6be91d3-64e4-4bf6-a8e6-1004d5a8c253",
   "metadata": {},
   "outputs": [],
   "source": [
    "#the above example shows how the datatype like str, float changes into one datatype i.e int. "
   ]
  },
  {
   "cell_type": "code",
   "execution_count": null,
   "id": "b3ba6f34-9fd4-4c70-a4c7-9c9336dbc35b",
   "metadata": {},
   "outputs": [],
   "source": [
    "#QUES.6 Conditional statement with example.\n",
    "#ANS.   Conditional statement includes\n",
    "        #if\n",
    "        #if-else\n",
    "        #if-elif-else"
   ]
  },
  {
   "cell_type": "code",
   "execution_count": 21,
   "id": "9ab84fc2-5ddb-4cc9-81f4-9bf50442fd4a",
   "metadata": {},
   "outputs": [
    {
     "name": "stdout",
     "output_type": "stream",
     "text": [
      "skills\n"
     ]
    }
   ],
   "source": [
    "#example of if statement\n",
    "x=20\n",
    "if(x % 4==0):\n",
    "    print (\"skills\")"
   ]
  },
  {
   "cell_type": "code",
   "execution_count": 23,
   "id": "ff95be25-23f8-4f6d-985c-69559eae738d",
   "metadata": {},
   "outputs": [
    {
     "name": "stdout",
     "output_type": "stream",
     "text": [
      "good class\n"
     ]
    }
   ],
   "source": [
    "#example of if-else\n",
    "student=30\n",
    "school=30\n",
    "if(student==school):\n",
    "    print(\"good class\")\n",
    "else:\n",
    "        print(\"bad class\")"
   ]
  },
  {
   "cell_type": "code",
   "execution_count": 1,
   "id": "bce0a0b6-9286-4e8f-8f01-bd19e6ccec99",
   "metadata": {},
   "outputs": [
    {
     "name": "stdout",
     "output_type": "stream",
     "text": [
      "class is avg\n"
     ]
    }
   ],
   "source": [
    "#example of if-elif-else\n",
    "my_class=45\n",
    "if my_class == 40:\n",
    "    print(\"class is good\")\n",
    "elif (my_class>40):\n",
    "    print(\"class is avg\")\n",
    "else:\n",
    "    print(\"my bad\")"
   ]
  },
  {
   "cell_type": "code",
   "execution_count": null,
   "id": "dbe319e9-5dbd-4052-ab73-2cc164df2d5f",
   "metadata": {},
   "outputs": [],
   "source": [
    "#QUES.7 Different types of loop with example.\n",
    "#ANS.   Types of loop are -\n",
    "        #for loop (it iterates each element in a program one by one)\n",
    "        #while loop (it execute a block of code until a condition is met)\n",
    "        "
   ]
  },
  {
   "cell_type": "code",
   "execution_count": 4,
   "id": "595dcf94-7ed9-458a-9b48-c6ec530e6f41",
   "metadata": {},
   "outputs": [
    {
     "name": "stdout",
     "output_type": "stream",
     "text": [
      "0\n",
      "2\n",
      "4\n"
     ]
    }
   ],
   "source": [
    "#example of for loop\n",
    "n=5\n",
    "for i in range(0,n,2):\n",
    "    print(i)"
   ]
  },
  {
   "cell_type": "code",
   "execution_count": 5,
   "id": "86853e5c-f952-471b-bd06-b84502ac5536",
   "metadata": {},
   "outputs": [
    {
     "name": "stdout",
     "output_type": "stream",
     "text": [
      "1\n",
      "2\n",
      "3\n",
      "4\n",
      "5\n",
      "6\n",
      "skills\n"
     ]
    }
   ],
   "source": [
    "#example of while loop\n",
    "n=7\n",
    "i=1\n",
    "while i<n:\n",
    "    print(i)\n",
    "    i=i+1\n",
    "else:\n",
    "    print(\"skills\")"
   ]
  },
  {
   "cell_type": "code",
   "execution_count": null,
   "id": "a1118f63-742b-4a00-87bb-5d74ba7a0796",
   "metadata": {},
   "outputs": [],
   "source": []
  }
 ],
 "metadata": {
  "kernelspec": {
   "display_name": "Python 3 (ipykernel)",
   "language": "python",
   "name": "python3"
  },
  "language_info": {
   "codemirror_mode": {
    "name": "ipython",
    "version": 3
   },
   "file_extension": ".py",
   "mimetype": "text/x-python",
   "name": "python",
   "nbconvert_exporter": "python",
   "pygments_lexer": "ipython3",
   "version": "3.10.8"
  }
 },
 "nbformat": 4,
 "nbformat_minor": 5
}
